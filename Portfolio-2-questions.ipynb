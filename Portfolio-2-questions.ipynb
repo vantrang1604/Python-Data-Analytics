{
 "cells": [
  {
   "cell_type": "markdown",
   "id": "rSF_UH-XklO4",
   "metadata": {
    "id": "rSF_UH-XklO4"
   },
   "source": [
    "## Analysis of a Car Sell Dataset Part 2"
   ]
  },
  {
   "cell_type": "markdown",
   "id": "aWJHrXuwklO5",
   "metadata": {
    "id": "aWJHrXuwklO5"
   },
   "source": [
    "There are two goals in the second analysis task: (1), train linear regression models to predict the selling prices of cars; (2) assess the data ethics issues. There are *7* questions in this portfolio. \n",
    "\n",
    "The first goal involves a standard Data Science workflow: exploring data, building models, making predictions, and evaluating results. In this task, we will explore the impacts of feature selections and different sizes of training/testing data on the model performance. We will use another cleaned car_sells sub-dataset that **is different from** the one in “Analysis of a Car Sell Dataset” task 1. This goal covers Questions *1-6*. \n",
    "\n",
    "Question *7* is about data ethics issue."
   ]
  },
  {
   "cell_type": "code",
   "execution_count": 425,
   "id": "f2b11c57",
   "metadata": {},
   "outputs": [],
   "source": [
    "your_name = \"Van Trang Nguyen\"\n",
    "your_student_id = \"47772174\""
   ]
  },
  {
   "cell_type": "code",
   "execution_count": 426,
   "id": "0e327626",
   "metadata": {},
   "outputs": [],
   "source": [
    "import pandas as pd\n",
    "import numpy as np\n",
    "from sklearn.model_selection import train_test_split\n",
    "from sklearn import linear_model\n",
    "from sklearn.metrics import r2_score, mean_squared_error\n",
    "\n",
    "import seaborn as sns\n",
    "import matplotlib.pylab as plt\n",
    "%matplotlib inline"
   ]
  },
  {
   "cell_type": "markdown",
   "id": "0g4OhHHzklO6",
   "metadata": {
    "id": "0g4OhHHzklO6"
   },
   "source": [
    "### Q1: Import Cleaned Car Sell Dataset\n",
    "The csv file named 'car_sells_clean_data.csv' is provided. You may need to use the Pandas method, i.e., `read_csv`, for reading it. After that, please print out its total length."
   ]
  },
  {
   "cell_type": "code",
   "execution_count": 427,
   "id": "9ki1LBees70W",
   "metadata": {
    "colab": {
     "base_uri": "https://localhost:8080/"
    },
    "id": "9ki1LBees70W",
    "outputId": "d3ff4349-47d0-423b-ef22-caf78c9883f5"
   },
   "outputs": [],
   "source": [
    "#Read the dataframe\n",
    "car_sell = 'data/car_sells_clean_data.csv'\n",
    "car_sell = pd.read_csv(car_sell)"
   ]
  },
  {
   "cell_type": "code",
   "execution_count": 428,
   "id": "a79965f1",
   "metadata": {},
   "outputs": [
    {
     "name": "stdout",
     "output_type": "stream",
     "text": [
      "3657\n"
     ]
    }
   ],
   "source": [
    "#Print the length of the data\n",
    "print(len(car_sell))"
   ]
  },
  {
   "cell_type": "markdown",
   "id": "RpXf1q3UklO7",
   "metadata": {
    "id": "RpXf1q3UklO7"
   },
   "source": [
    "### Q2: Explore the Dataset\n",
    "\n",
    "* Use the methods, i.e., `head()` and `info()`, to have a rough picture about the data, e.g., how many columns, and the data types of each column.\n",
    "* As our goal is to predict cars' selling prices given other columns, please get the correlations between year/km_driven/seller_type/fuel/owner and selling_price by using the `corr()` method.\n",
    "* To get the correlations between different features, you may need to first convert the categorical features (i.e., seller_type and owner) into numerial values. For doing this, you may need to import `OrdinalEncoder` from `sklearn.preprocessing` (refer to the useful exmaples [here](https://pbpython.com/categorical-encoding.html))\n",
    "* Please provide ___necessary explanations/analysis___ on the correlations, and figure out which are the ___most___ and ___least___ corrleated features regarding selling_price. Try to ___discuss___ how the correlation will affect the final prediction results, if we use these features to train a regression model for selling_price prediction. In what follows, we will conduct experiments to verify your hypothesis."
   ]
  },
  {
   "cell_type": "code",
   "execution_count": 429,
   "id": "568ba710",
   "metadata": {},
   "outputs": [
    {
     "data": {
      "text/plain": [
       "(3657, 8)"
      ]
     },
     "execution_count": 429,
     "metadata": {},
     "output_type": "execute_result"
    }
   ],
   "source": [
    "# Get the size of the data\n",
    "car_sell.shape"
   ]
  },
  {
   "cell_type": "code",
   "execution_count": 430,
   "id": "7551c655",
   "metadata": {},
   "outputs": [
    {
     "data": {
      "text/html": [
       "<div>\n",
       "<style scoped>\n",
       "    .dataframe tbody tr th:only-of-type {\n",
       "        vertical-align: middle;\n",
       "    }\n",
       "\n",
       "    .dataframe tbody tr th {\n",
       "        vertical-align: top;\n",
       "    }\n",
       "\n",
       "    .dataframe thead th {\n",
       "        text-align: right;\n",
       "    }\n",
       "</style>\n",
       "<table border=\"1\" class=\"dataframe\">\n",
       "  <thead>\n",
       "    <tr style=\"text-align: right;\">\n",
       "      <th></th>\n",
       "      <th>name</th>\n",
       "      <th>year</th>\n",
       "      <th>selling_price</th>\n",
       "      <th>km_driven</th>\n",
       "      <th>fuel</th>\n",
       "      <th>seller_type</th>\n",
       "      <th>transmission</th>\n",
       "      <th>owner</th>\n",
       "    </tr>\n",
       "  </thead>\n",
       "  <tbody>\n",
       "    <tr>\n",
       "      <th>0</th>\n",
       "      <td>Maruti 800 AC</td>\n",
       "      <td>2007.0</td>\n",
       "      <td>60000</td>\n",
       "      <td>70000</td>\n",
       "      <td>Petrol</td>\n",
       "      <td>Individual</td>\n",
       "      <td>Manual</td>\n",
       "      <td>First Owner</td>\n",
       "    </tr>\n",
       "    <tr>\n",
       "      <th>1</th>\n",
       "      <td>Maruti Wagon R LXI Minor</td>\n",
       "      <td>2007.0</td>\n",
       "      <td>135000</td>\n",
       "      <td>50000</td>\n",
       "      <td>Petrol</td>\n",
       "      <td>Individual</td>\n",
       "      <td>Manual</td>\n",
       "      <td>First Owner</td>\n",
       "    </tr>\n",
       "    <tr>\n",
       "      <th>2</th>\n",
       "      <td>Hyundai Verna 1.6 SX</td>\n",
       "      <td>2012.0</td>\n",
       "      <td>600000</td>\n",
       "      <td>100000</td>\n",
       "      <td>Diesel</td>\n",
       "      <td>Individual</td>\n",
       "      <td>Manual</td>\n",
       "      <td>First Owner</td>\n",
       "    </tr>\n",
       "    <tr>\n",
       "      <th>3</th>\n",
       "      <td>Datsun RediGO T Option</td>\n",
       "      <td>2017.0</td>\n",
       "      <td>250000</td>\n",
       "      <td>46000</td>\n",
       "      <td>Petrol</td>\n",
       "      <td>Individual</td>\n",
       "      <td>Manual</td>\n",
       "      <td>First Owner</td>\n",
       "    </tr>\n",
       "    <tr>\n",
       "      <th>4</th>\n",
       "      <td>Honda Amaze VX i-DTEC</td>\n",
       "      <td>2014.0</td>\n",
       "      <td>450000</td>\n",
       "      <td>141000</td>\n",
       "      <td>Diesel</td>\n",
       "      <td>Individual</td>\n",
       "      <td>Manual</td>\n",
       "      <td>Second Owner</td>\n",
       "    </tr>\n",
       "  </tbody>\n",
       "</table>\n",
       "</div>"
      ],
      "text/plain": [
       "                       name    year  selling_price  km_driven    fuel  \\\n",
       "0             Maruti 800 AC  2007.0          60000      70000  Petrol   \n",
       "1  Maruti Wagon R LXI Minor  2007.0         135000      50000  Petrol   \n",
       "2      Hyundai Verna 1.6 SX  2012.0         600000     100000  Diesel   \n",
       "3    Datsun RediGO T Option  2017.0         250000      46000  Petrol   \n",
       "4     Honda Amaze VX i-DTEC  2014.0         450000     141000  Diesel   \n",
       "\n",
       "  seller_type transmission         owner  \n",
       "0  Individual       Manual   First Owner  \n",
       "1  Individual       Manual   First Owner  \n",
       "2  Individual       Manual   First Owner  \n",
       "3  Individual       Manual   First Owner  \n",
       "4  Individual       Manual  Second Owner  "
      ]
     },
     "execution_count": 430,
     "metadata": {},
     "output_type": "execute_result"
    }
   ],
   "source": [
    "#Display the data \n",
    "car_sell.head()"
   ]
  },
  {
   "cell_type": "code",
   "execution_count": 431,
   "id": "8ed5ab55",
   "metadata": {},
   "outputs": [
    {
     "data": {
      "text/plain": [
       "Index(['name', 'year', 'selling_price', 'km_driven', 'fuel', 'seller_type',\n",
       "       'transmission', 'owner'],\n",
       "      dtype='object')"
      ]
     },
     "execution_count": 431,
     "metadata": {},
     "output_type": "execute_result"
    }
   ],
   "source": [
    "#Display the column\n",
    "car_sell.columns"
   ]
  },
  {
   "cell_type": "code",
   "execution_count": 432,
   "id": "e8edfcdb",
   "metadata": {},
   "outputs": [
    {
     "name": "stdout",
     "output_type": "stream",
     "text": [
      "<class 'pandas.core.frame.DataFrame'>\n",
      "RangeIndex: 3657 entries, 0 to 3656\n",
      "Data columns (total 8 columns):\n",
      " #   Column         Non-Null Count  Dtype  \n",
      "---  ------         --------------  -----  \n",
      " 0   name           3657 non-null   object \n",
      " 1   year           3657 non-null   float64\n",
      " 2   selling_price  3657 non-null   int64  \n",
      " 3   km_driven      3657 non-null   int64  \n",
      " 4   fuel           3657 non-null   object \n",
      " 5   seller_type    3657 non-null   object \n",
      " 6   transmission   3657 non-null   object \n",
      " 7   owner          3657 non-null   object \n",
      "dtypes: float64(1), int64(2), object(5)\n",
      "memory usage: 228.7+ KB\n"
     ]
    }
   ],
   "source": [
    "#Get information of the data \n",
    "car_sell.info()"
   ]
  },
  {
   "cell_type": "markdown",
   "id": "e347d08c",
   "metadata": {},
   "source": [
    "### The correlation between year and selling_price:"
   ]
  },
  {
   "cell_type": "code",
   "execution_count": 433,
   "id": "1e1fbbf7",
   "metadata": {},
   "outputs": [
    {
     "data": {
      "text/html": [
       "<div>\n",
       "<style scoped>\n",
       "    .dataframe tbody tr th:only-of-type {\n",
       "        vertical-align: middle;\n",
       "    }\n",
       "\n",
       "    .dataframe tbody tr th {\n",
       "        vertical-align: top;\n",
       "    }\n",
       "\n",
       "    .dataframe thead th {\n",
       "        text-align: right;\n",
       "    }\n",
       "</style>\n",
       "<table border=\"1\" class=\"dataframe\">\n",
       "  <thead>\n",
       "    <tr style=\"text-align: right;\">\n",
       "      <th></th>\n",
       "      <th>year</th>\n",
       "      <th>selling_price</th>\n",
       "    </tr>\n",
       "  </thead>\n",
       "  <tbody>\n",
       "    <tr>\n",
       "      <th>year</th>\n",
       "      <td>1.000000</td>\n",
       "      <td>0.411103</td>\n",
       "    </tr>\n",
       "    <tr>\n",
       "      <th>selling_price</th>\n",
       "      <td>0.411103</td>\n",
       "      <td>1.000000</td>\n",
       "    </tr>\n",
       "  </tbody>\n",
       "</table>\n",
       "</div>"
      ],
      "text/plain": [
       "                   year  selling_price\n",
       "year           1.000000       0.411103\n",
       "selling_price  0.411103       1.000000"
      ]
     },
     "execution_count": 433,
     "metadata": {},
     "output_type": "execute_result"
    }
   ],
   "source": [
    "#Checking correlation between year and selling_price\n",
    "car_sell[['year','selling_price']].corr()\n"
   ]
  },
  {
   "cell_type": "markdown",
   "id": "33c614cc",
   "metadata": {},
   "source": [
    "### The correlation between km_driven and selling_price:"
   ]
  },
  {
   "cell_type": "code",
   "execution_count": 434,
   "id": "e756699d",
   "metadata": {},
   "outputs": [
    {
     "data": {
      "text/html": [
       "<div>\n",
       "<style scoped>\n",
       "    .dataframe tbody tr th:only-of-type {\n",
       "        vertical-align: middle;\n",
       "    }\n",
       "\n",
       "    .dataframe tbody tr th {\n",
       "        vertical-align: top;\n",
       "    }\n",
       "\n",
       "    .dataframe thead th {\n",
       "        text-align: right;\n",
       "    }\n",
       "</style>\n",
       "<table border=\"1\" class=\"dataframe\">\n",
       "  <thead>\n",
       "    <tr style=\"text-align: right;\">\n",
       "      <th></th>\n",
       "      <th>km_driven</th>\n",
       "      <th>selling_price</th>\n",
       "    </tr>\n",
       "  </thead>\n",
       "  <tbody>\n",
       "    <tr>\n",
       "      <th>km_driven</th>\n",
       "      <td>1.000000</td>\n",
       "      <td>-0.177203</td>\n",
       "    </tr>\n",
       "    <tr>\n",
       "      <th>selling_price</th>\n",
       "      <td>-0.177203</td>\n",
       "      <td>1.000000</td>\n",
       "    </tr>\n",
       "  </tbody>\n",
       "</table>\n",
       "</div>"
      ],
      "text/plain": [
       "               km_driven  selling_price\n",
       "km_driven       1.000000      -0.177203\n",
       "selling_price  -0.177203       1.000000"
      ]
     },
     "execution_count": 434,
     "metadata": {},
     "output_type": "execute_result"
    }
   ],
   "source": [
    "#Checking correlation between km_driven and selling_price\n",
    "car_sell[['km_driven','selling_price']].corr()\n"
   ]
  },
  {
   "cell_type": "code",
   "execution_count": 435,
   "id": "ca78c9c4",
   "metadata": {},
   "outputs": [],
   "source": [
    "#Import neccessary libraries\n",
    "from sklearn.preprocessing import OrdinalEncoder"
   ]
  },
  {
   "cell_type": "markdown",
   "id": "c4f80e10",
   "metadata": {},
   "source": [
    "### The correlation between seller_type and selling_price:"
   ]
  },
  {
   "cell_type": "code",
   "execution_count": 436,
   "id": "9dc7b4e5",
   "metadata": {},
   "outputs": [
    {
     "data": {
      "text/html": [
       "<div>\n",
       "<style scoped>\n",
       "    .dataframe tbody tr th:only-of-type {\n",
       "        vertical-align: middle;\n",
       "    }\n",
       "\n",
       "    .dataframe tbody tr th {\n",
       "        vertical-align: top;\n",
       "    }\n",
       "\n",
       "    .dataframe thead th {\n",
       "        text-align: right;\n",
       "    }\n",
       "</style>\n",
       "<table border=\"1\" class=\"dataframe\">\n",
       "  <thead>\n",
       "    <tr style=\"text-align: right;\">\n",
       "      <th></th>\n",
       "      <th>seller_type_code</th>\n",
       "      <th>selling_price</th>\n",
       "    </tr>\n",
       "  </thead>\n",
       "  <tbody>\n",
       "    <tr>\n",
       "      <th>seller_type_code</th>\n",
       "      <td>1.000000</td>\n",
       "      <td>-0.208637</td>\n",
       "    </tr>\n",
       "    <tr>\n",
       "      <th>selling_price</th>\n",
       "      <td>-0.208637</td>\n",
       "      <td>1.000000</td>\n",
       "    </tr>\n",
       "  </tbody>\n",
       "</table>\n",
       "</div>"
      ],
      "text/plain": [
       "                  seller_type_code  selling_price\n",
       "seller_type_code          1.000000      -0.208637\n",
       "selling_price            -0.208637       1.000000"
      ]
     },
     "execution_count": 436,
     "metadata": {},
     "output_type": "execute_result"
    }
   ],
   "source": [
    "#Convert seller_type into numerical\n",
    "ord_enc = OrdinalEncoder()\n",
    "car_sell[\"seller_type_code\"] = ord_enc.fit_transform(car_sell[[\"seller_type\"]])\n",
    "#Get the correlation between seller_type and selling_price\n",
    "car_sell[['seller_type_code','selling_price']].corr()"
   ]
  },
  {
   "cell_type": "markdown",
   "id": "fead9df1",
   "metadata": {},
   "source": [
    "### The correlation between fuel and selling_price:"
   ]
  },
  {
   "cell_type": "code",
   "execution_count": 437,
   "id": "41c9de8a",
   "metadata": {},
   "outputs": [
    {
     "data": {
      "text/html": [
       "<div>\n",
       "<style scoped>\n",
       "    .dataframe tbody tr th:only-of-type {\n",
       "        vertical-align: middle;\n",
       "    }\n",
       "\n",
       "    .dataframe tbody tr th {\n",
       "        vertical-align: top;\n",
       "    }\n",
       "\n",
       "    .dataframe thead th {\n",
       "        text-align: right;\n",
       "    }\n",
       "</style>\n",
       "<table border=\"1\" class=\"dataframe\">\n",
       "  <thead>\n",
       "    <tr style=\"text-align: right;\">\n",
       "      <th></th>\n",
       "      <th>fuel_code</th>\n",
       "      <th>selling_price</th>\n",
       "    </tr>\n",
       "  </thead>\n",
       "  <tbody>\n",
       "    <tr>\n",
       "      <th>fuel_code</th>\n",
       "      <td>1.000000</td>\n",
       "      <td>-0.277627</td>\n",
       "    </tr>\n",
       "    <tr>\n",
       "      <th>selling_price</th>\n",
       "      <td>-0.277627</td>\n",
       "      <td>1.000000</td>\n",
       "    </tr>\n",
       "  </tbody>\n",
       "</table>\n",
       "</div>"
      ],
      "text/plain": [
       "               fuel_code  selling_price\n",
       "fuel_code       1.000000      -0.277627\n",
       "selling_price  -0.277627       1.000000"
      ]
     },
     "execution_count": 437,
     "metadata": {},
     "output_type": "execute_result"
    }
   ],
   "source": [
    "#Convert fuel into numerical\n",
    "car_sell[\"fuel_code\"] = ord_enc.fit_transform(car_sell[[\"fuel\"]])\n",
    "#Get the correlation between seller_type and selling_price\n",
    "car_sell[['fuel_code','selling_price']].corr()"
   ]
  },
  {
   "cell_type": "markdown",
   "id": "0d744cf6",
   "metadata": {},
   "source": [
    "### The correlation between owner and selling_price:"
   ]
  },
  {
   "cell_type": "code",
   "execution_count": 438,
   "id": "bcdd8adf",
   "metadata": {},
   "outputs": [
    {
     "data": {
      "text/html": [
       "<div>\n",
       "<style scoped>\n",
       "    .dataframe tbody tr th:only-of-type {\n",
       "        vertical-align: middle;\n",
       "    }\n",
       "\n",
       "    .dataframe tbody tr th {\n",
       "        vertical-align: top;\n",
       "    }\n",
       "\n",
       "    .dataframe thead th {\n",
       "        text-align: right;\n",
       "    }\n",
       "</style>\n",
       "<table border=\"1\" class=\"dataframe\">\n",
       "  <thead>\n",
       "    <tr style=\"text-align: right;\">\n",
       "      <th></th>\n",
       "      <th>owner_code</th>\n",
       "      <th>selling_price</th>\n",
       "    </tr>\n",
       "  </thead>\n",
       "  <tbody>\n",
       "    <tr>\n",
       "      <th>owner_code</th>\n",
       "      <td>1.000000</td>\n",
       "      <td>-0.205524</td>\n",
       "    </tr>\n",
       "    <tr>\n",
       "      <th>selling_price</th>\n",
       "      <td>-0.205524</td>\n",
       "      <td>1.000000</td>\n",
       "    </tr>\n",
       "  </tbody>\n",
       "</table>\n",
       "</div>"
      ],
      "text/plain": [
       "               owner_code  selling_price\n",
       "owner_code       1.000000      -0.205524\n",
       "selling_price   -0.205524       1.000000"
      ]
     },
     "execution_count": 438,
     "metadata": {},
     "output_type": "execute_result"
    }
   ],
   "source": [
    "#Convert owner into numerical\n",
    "car_sell[\"owner_code\"] = ord_enc.fit_transform(car_sell[[\"owner\"]])\n",
    "#Get the correlation between seller_type and selling_price\n",
    "car_sell[['owner_code','selling_price']].corr()"
   ]
  },
  {
   "cell_type": "markdown",
   "id": "0eeafb05",
   "metadata": {},
   "source": [
    "### Create heat map correlation between variables"
   ]
  },
  {
   "cell_type": "code",
   "execution_count": 439,
   "id": "237d1626",
   "metadata": {},
   "outputs": [
    {
     "data": {
      "image/png": "[encoded data removed]",
      "text/plain": [
       "<Figure size 800x600 with 2 Axes>"
      ]
     },
     "metadata": {},
     "output_type": "display_data"
    }
   ],
   "source": [
    "# Select only the relevant columns\n",
    "corr_columns = ['km_driven', 'year', 'fuel_code', 'owner_code','seller_type_code','selling_price']\n",
    "\n",
    "# Calculate the correlation matrix\n",
    "corr_matrix = car_sell[corr_columns].corr()\n",
    "\n",
    "# Plot the heatmap\n",
    "plt.figure(figsize=(8, 6))\n",
    "sns.heatmap(corr_matrix, annot=True, cmap='coolwarm', linewidths=0.5, vmin=-1, vmax=1)\n",
    "\n",
    "# Title and labels\n",
    "plt.title('Correlation Heatmap between variables and selling_price')\n",
    "plt.show()"
   ]
  },
  {
   "cell_type": "markdown",
   "id": "abd960ba",
   "metadata": {},
   "source": [
    "## Analysis \n",
    "### Highest Correlation\n",
    "According to the correlation given before, the most correlated feature regarding selling_price is 0.411103. This result shows a strong positive correlation/relationship between year and selling price in comparison to other variables. \n",
    "\n",
    "\n",
    "### Lowest Correlation\n",
    "The correlation coefficient of -0.177203 between km_driven and selling_price is the lowest compared to other features. It shows a weak correlation between km_driven and selling_price.\n",
    "\n",
    "#### Overall\n",
    "It can be witnessed that from the highest to the lowest correlation is year, fuel, seller_type, owner and km_driven in that order. The correlated relationship between selling_price and fuel, seller_type, owner, km_driven are negative meaning that a negative correlation between these features with selling_price. In contrast, the correlation between year and selling price is positive, leading to a positive relationship between them. Furthermore, the result demonstrates that the slope will be upward for year, while the opposite is true for others. It implies that the higher year is, the higher selling_price will be. In contrast, the lower other variables are, the higher selling price will be"
   ]
  },
  {
   "cell_type": "markdown",
   "id": "C3DFUuGXklO_",
   "metadata": {
    "id": "C3DFUuGXklO_"
   },
   "source": [
    "### Q3: Split Training and Testing Data\n",
    "* Machine learning models are trained to help make predictions for the future. Normally, we need to randomly split the dataset into training and testing sets, where we use the training set to train the model, and then leverage the well-trained model to make predictions on the testing set.\n",
    "* To further investigate whether the size of the training/testing data affects the model performance, please randomly split the data into training and testing sets with different sizes:\n",
    "    * Case 1: training data containing 10% of the entire data;\n",
    "    * Case 2: training data containing 90% of the entire data.\n",
    "* Print the shape of training and testing sets in the two cases."
   ]
  },
  {
   "cell_type": "markdown",
   "id": "9b2c2ad6",
   "metadata": {},
   "source": [
    "### Create a copy of data set contains all of numerical variables\n"
   ]
  },
  {
   "cell_type": "code",
   "execution_count": 440,
   "id": "000f0b4d",
   "metadata": {},
   "outputs": [
    {
     "data": {
      "text/html": [
       "<div>\n",
       "<style scoped>\n",
       "    .dataframe tbody tr th:only-of-type {\n",
       "        vertical-align: middle;\n",
       "    }\n",
       "\n",
       "    .dataframe tbody tr th {\n",
       "        vertical-align: top;\n",
       "    }\n",
       "\n",
       "    .dataframe thead th {\n",
       "        text-align: right;\n",
       "    }\n",
       "</style>\n",
       "<table border=\"1\" class=\"dataframe\">\n",
       "  <thead>\n",
       "    <tr style=\"text-align: right;\">\n",
       "      <th></th>\n",
       "      <th>name</th>\n",
       "      <th>year</th>\n",
       "      <th>selling_price</th>\n",
       "      <th>km_driven</th>\n",
       "      <th>transmission</th>\n",
       "      <th>seller_type</th>\n",
       "      <th>fuel</th>\n",
       "      <th>owner</th>\n",
       "    </tr>\n",
       "  </thead>\n",
       "  <tbody>\n",
       "    <tr>\n",
       "      <th>0</th>\n",
       "      <td>Maruti 800 AC</td>\n",
       "      <td>2007.0</td>\n",
       "      <td>60000</td>\n",
       "      <td>70000</td>\n",
       "      <td>Manual</td>\n",
       "      <td>1.0</td>\n",
       "      <td>1.0</td>\n",
       "      <td>0.0</td>\n",
       "    </tr>\n",
       "    <tr>\n",
       "      <th>1</th>\n",
       "      <td>Maruti Wagon R LXI Minor</td>\n",
       "      <td>2007.0</td>\n",
       "      <td>135000</td>\n",
       "      <td>50000</td>\n",
       "      <td>Manual</td>\n",
       "      <td>1.0</td>\n",
       "      <td>1.0</td>\n",
       "      <td>0.0</td>\n",
       "    </tr>\n",
       "    <tr>\n",
       "      <th>2</th>\n",
       "      <td>Hyundai Verna 1.6 SX</td>\n",
       "      <td>2012.0</td>\n",
       "      <td>600000</td>\n",
       "      <td>100000</td>\n",
       "      <td>Manual</td>\n",
       "      <td>1.0</td>\n",
       "      <td>0.0</td>\n",
       "      <td>0.0</td>\n",
       "    </tr>\n",
       "    <tr>\n",
       "      <th>3</th>\n",
       "      <td>Datsun RediGO T Option</td>\n",
       "      <td>2017.0</td>\n",
       "      <td>250000</td>\n",
       "      <td>46000</td>\n",
       "      <td>Manual</td>\n",
       "      <td>1.0</td>\n",
       "      <td>1.0</td>\n",
       "      <td>0.0</td>\n",
       "    </tr>\n",
       "    <tr>\n",
       "      <th>4</th>\n",
       "      <td>Honda Amaze VX i-DTEC</td>\n",
       "      <td>2014.0</td>\n",
       "      <td>450000</td>\n",
       "      <td>141000</td>\n",
       "      <td>Manual</td>\n",
       "      <td>1.0</td>\n",
       "      <td>0.0</td>\n",
       "      <td>1.0</td>\n",
       "    </tr>\n",
       "    <tr>\n",
       "      <th>...</th>\n",
       "      <td>...</td>\n",
       "      <td>...</td>\n",
       "      <td>...</td>\n",
       "      <td>...</td>\n",
       "      <td>...</td>\n",
       "      <td>...</td>\n",
       "      <td>...</td>\n",
       "      <td>...</td>\n",
       "    </tr>\n",
       "    <tr>\n",
       "      <th>3652</th>\n",
       "      <td>Hyundai i20 Magna 1.4 CRDi (Diesel)</td>\n",
       "      <td>2014.0</td>\n",
       "      <td>409999</td>\n",
       "      <td>80000</td>\n",
       "      <td>Manual</td>\n",
       "      <td>1.0</td>\n",
       "      <td>0.0</td>\n",
       "      <td>1.0</td>\n",
       "    </tr>\n",
       "    <tr>\n",
       "      <th>3653</th>\n",
       "      <td>Hyundai i20 Magna 1.4 CRDi</td>\n",
       "      <td>2014.0</td>\n",
       "      <td>409999</td>\n",
       "      <td>80000</td>\n",
       "      <td>Manual</td>\n",
       "      <td>1.0</td>\n",
       "      <td>0.0</td>\n",
       "      <td>1.0</td>\n",
       "    </tr>\n",
       "    <tr>\n",
       "      <th>3654</th>\n",
       "      <td>Maruti 800 AC BSIII</td>\n",
       "      <td>2009.0</td>\n",
       "      <td>110000</td>\n",
       "      <td>83000</td>\n",
       "      <td>Manual</td>\n",
       "      <td>1.0</td>\n",
       "      <td>1.0</td>\n",
       "      <td>1.0</td>\n",
       "    </tr>\n",
       "    <tr>\n",
       "      <th>3655</th>\n",
       "      <td>Hyundai Creta 1.6 CRDi SX Option</td>\n",
       "      <td>2016.0</td>\n",
       "      <td>865000</td>\n",
       "      <td>90000</td>\n",
       "      <td>Manual</td>\n",
       "      <td>1.0</td>\n",
       "      <td>0.0</td>\n",
       "      <td>0.0</td>\n",
       "    </tr>\n",
       "    <tr>\n",
       "      <th>3656</th>\n",
       "      <td>Renault KWID RXT</td>\n",
       "      <td>2016.0</td>\n",
       "      <td>225000</td>\n",
       "      <td>40000</td>\n",
       "      <td>Manual</td>\n",
       "      <td>1.0</td>\n",
       "      <td>1.0</td>\n",
       "      <td>0.0</td>\n",
       "    </tr>\n",
       "  </tbody>\n",
       "</table>\n",
       "<p>3657 rows × 8 columns</p>\n",
       "</div>"
      ],
      "text/plain": [
       "                                     name    year  selling_price  km_driven  \\\n",
       "0                           Maruti 800 AC  2007.0          60000      70000   \n",
       "1                Maruti Wagon R LXI Minor  2007.0         135000      50000   \n",
       "2                    Hyundai Verna 1.6 SX  2012.0         600000     100000   \n",
       "3                  Datsun RediGO T Option  2017.0         250000      46000   \n",
       "4                   Honda Amaze VX i-DTEC  2014.0         450000     141000   \n",
       "...                                   ...     ...            ...        ...   \n",
       "3652  Hyundai i20 Magna 1.4 CRDi (Diesel)  2014.0         409999      80000   \n",
       "3653           Hyundai i20 Magna 1.4 CRDi  2014.0         409999      80000   \n",
       "3654                  Maruti 800 AC BSIII  2009.0         110000      83000   \n",
       "3655     Hyundai Creta 1.6 CRDi SX Option  2016.0         865000      90000   \n",
       "3656                     Renault KWID RXT  2016.0         225000      40000   \n",
       "\n",
       "     transmission  seller_type  fuel  owner  \n",
       "0          Manual          1.0   1.0    0.0  \n",
       "1          Manual          1.0   1.0    0.0  \n",
       "2          Manual          1.0   0.0    0.0  \n",
       "3          Manual          1.0   1.0    0.0  \n",
       "4          Manual          1.0   0.0    1.0  \n",
       "...           ...          ...   ...    ...  \n",
       "3652       Manual          1.0   0.0    1.0  \n",
       "3653       Manual          1.0   0.0    1.0  \n",
       "3654       Manual          1.0   1.0    1.0  \n",
       "3655       Manual          1.0   0.0    0.0  \n",
       "3656       Manual          1.0   1.0    0.0  \n",
       "\n",
       "[3657 rows x 8 columns]"
      ]
     },
     "execution_count": 440,
     "metadata": {},
     "output_type": "execute_result"
    }
   ],
   "source": [
    "#Import necessary libraries\n",
    "import copy\n",
    "# Create a copy of the dataframe\n",
    "car_sell_new = copy.copy(car_sell)\n",
    "\n",
    "# Drop the original columns that is categorical\n",
    "car_sell_new = car_sell_new.drop([\"seller_type\", \"owner\", \"fuel\"], axis = 1) \n",
    "\n",
    "# Rename the these \"seller_type_code\", \"owner_code\", \"fuel_code\" after tranforming\n",
    "car_sell_new.rename(columns = {'seller_type_code':'seller_type', 'owner_code':'owner',\"fuel_code\":'fuel'}, inplace = True)\n",
    "car_sell_new"
   ]
  },
  {
   "cell_type": "markdown",
   "id": "925879cd",
   "metadata": {},
   "source": [
    "## Case 1: training data containing 10% of the entire data"
   ]
  },
  {
   "cell_type": "code",
   "execution_count": 441,
   "id": "47f6b5cd",
   "metadata": {},
   "outputs": [
    {
     "name": "stdout",
     "output_type": "stream",
     "text": [
      "The shape of training:  (365, 8)\n",
      "The shape of testing:  (3292, 8)\n"
     ]
    }
   ],
   "source": [
    "# The train_test_split function is used to train 10% of the data in the test set\n",
    "train1, test1 = train_test_split(car_sell_new, train_size=0.1, random_state = 42) \n",
    "print(\"The shape of training: \", train1.shape)\n",
    "print(\"The shape of testing: \", test1.shape)"
   ]
  },
  {
   "cell_type": "code",
   "execution_count": 442,
   "id": "fb8ffcd7",
   "metadata": {},
   "outputs": [
    {
     "data": {
      "text/plain": [
       "Index(['name', 'year', 'selling_price', 'km_driven', 'transmission',\n",
       "       'seller_type', 'fuel', 'owner'],\n",
       "      dtype='object')"
      ]
     },
     "execution_count": 442,
     "metadata": {},
     "output_type": "execute_result"
    }
   ],
   "source": [
    "# Display columns for training set:\n",
    "train1.columns"
   ]
  },
  {
   "cell_type": "code",
   "execution_count": 443,
   "id": "2513527c",
   "metadata": {},
   "outputs": [
    {
     "data": {
      "text/plain": [
       "Index(['name', 'year', 'selling_price', 'km_driven', 'transmission',\n",
       "       'seller_type', 'fuel', 'owner'],\n",
       "      dtype='object')"
      ]
     },
     "execution_count": 443,
     "metadata": {},
     "output_type": "execute_result"
    }
   ],
   "source": [
    "# Display columns for testing set:\n",
    "test1.columns"
   ]
  },
  {
   "cell_type": "markdown",
   "id": "e11c1c06",
   "metadata": {},
   "source": [
    "## Case 2: training data containing 90% of the entire data"
   ]
  },
  {
   "cell_type": "code",
   "execution_count": 444,
   "id": "9414d093",
   "metadata": {},
   "outputs": [
    {
     "name": "stdout",
     "output_type": "stream",
     "text": [
      "The shape of training:  (3291, 8)\n",
      "The shape of testing:  (366, 8)\n"
     ]
    }
   ],
   "source": [
    "# The train_test_split function is used to train 90% of the data in the test set\n",
    "train2, test2 = train_test_split(car_sell_new, train_size=0.9, random_state = 42) \n",
    "print(\"The shape of training: \", train2.shape)\n",
    "print(\"The shape of testing: \", test2.shape)"
   ]
  },
  {
   "cell_type": "code",
   "execution_count": 445,
   "id": "7e539bfb",
   "metadata": {},
   "outputs": [
    {
     "data": {
      "text/plain": [
       "Index(['name', 'year', 'selling_price', 'km_driven', 'transmission',\n",
       "       'seller_type', 'fuel', 'owner'],\n",
       "      dtype='object')"
      ]
     },
     "execution_count": 445,
     "metadata": {},
     "output_type": "execute_result"
    }
   ],
   "source": [
    "# Display columns for training set:\n",
    "train2.columns"
   ]
  },
  {
   "cell_type": "code",
   "execution_count": 446,
   "id": "d2302dbe",
   "metadata": {},
   "outputs": [
    {
     "data": {
      "text/plain": [
       "Index(['name', 'year', 'selling_price', 'km_driven', 'transmission',\n",
       "       'seller_type', 'fuel', 'owner'],\n",
       "      dtype='object')"
      ]
     },
     "execution_count": 446,
     "metadata": {},
     "output_type": "execute_result"
    }
   ],
   "source": [
    "# Display columns for testing set:\n",
    "test2.columns"
   ]
  },
  {
   "cell_type": "markdown",
   "id": "WiNRCPFoklO_",
   "metadata": {
    "id": "WiNRCPFoklO_"
   },
   "source": [
    "### Q4: Train Linear Regression Models with Feature Selection under Cases 1 & 2\n",
    "* When training a machine learning model for prediction, we may need to select the most important/correlated input features for more accurate results.\n",
    "* To investigate whether feature selection affects the model performance, please select two most correlated features and two least correlated features regarding selling_price, respectively.\n",
    "* Train four linear regression models by following the conditions:\n",
    "    - (model-a) using the training/testing data in case 1 with two most correlated input features\n",
    "    - (model-b) using the training/testing data in case 1 with two least correlated input features\n",
    "    - (model-c) using the training/testing data in case 2 with two most correlated input features\n",
    "    - (model-d) using the training/testing data in case 2 with two least correlated input features\n",
    "* By doing this, we can verify the impacts of the size of traing/testing data on the model performance via comparing model-a and model-c (or model-b and model-d); meanwhile the impacts of feature selection can be validated via comparing model-a and model-b (or model-c and model-d).    "
   ]
  },
  {
   "cell_type": "markdown",
   "id": "2487c77a",
   "metadata": {},
   "source": [
    "## Model a: using the training/testing data in case 1 with two most correlated input features"
   ]
  },
  {
   "cell_type": "code",
   "execution_count": 447,
   "id": "e5fb3ae8",
   "metadata": {},
   "outputs": [
    {
     "name": "stdout",
     "output_type": "stream",
     "text": [
      "y = x * [[  64417.51267191 -277034.06806034]] + [-1.29019979e+08]\n"
     ]
    }
   ],
   "source": [
    "reg_a = linear_model.LinearRegression()\n",
    "X_train_a = train1[['year','fuel']]\n",
    "y_train_a = train1[['selling_price']]\n",
    "X_test_a = test1[['year','fuel']]\n",
    "y_test_a = test1[['selling_price']]\n",
    "\n",
    "#Fit the model\n",
    "reg_a.fit(X_train_a,y_train_a)\n",
    "# Print the model\n",
    "print( \"y = x *\", reg_a.coef_, \"+\" , reg_a.intercept_)"
   ]
  },
  {
   "cell_type": "markdown",
   "id": "d5f0d20d",
   "metadata": {},
   "source": [
    "## Model b: using the training/testing data in case 1 with two least correlated input features"
   ]
  },
  {
   "cell_type": "code",
   "execution_count": 448,
   "id": "189daf74",
   "metadata": {},
   "outputs": [
    {
     "name": "stdout",
     "output_type": "stream",
     "text": [
      "y = x * [[-1.13002634e+05 -2.99854745e+00]] + [772525.89193473]\n"
     ]
    }
   ],
   "source": [
    "reg_b = linear_model.LinearRegression()\n",
    "X_train_b = train1[['owner','km_driven']]\n",
    "y_train_b = train1[['selling_price']]\n",
    "X_test_b = test1[['owner','km_driven']]\n",
    "y_test_b = test1[['selling_price']]\n",
    "\n",
    "#Fit the model\n",
    "reg_b.fit(X_train_b,y_train_b)\n",
    "# Print the model\n",
    "print( \"y = x *\", reg_b.coef_, \"+\" , reg_b.intercept_)"
   ]
  },
  {
   "cell_type": "markdown",
   "id": "41cb2841",
   "metadata": {},
   "source": [
    "## Model c: using the training/testing data in case 2 with two most correlated input features"
   ]
  },
  {
   "cell_type": "code",
   "execution_count": 449,
   "id": "c4fa8117",
   "metadata": {},
   "outputs": [
    {
     "name": "stdout",
     "output_type": "stream",
     "text": [
      "y = x * [[  52080.97486204 -257175.87682036]] + [-1.04222057e+08]\n"
     ]
    }
   ],
   "source": [
    "reg_c = linear_model.LinearRegression()\n",
    "X_train_c = train2[['year','fuel']]\n",
    "y_train_c = train2[['selling_price']]\n",
    "X_test_c = test2[['year','fuel']]\n",
    "y_test_c = test2[['selling_price']]\n",
    "#Fit the model\n",
    "reg_c.fit(X_train_c,y_train_c)\n",
    "# Print the model\n",
    "print( \"y = x *\", reg_c.coef_, \"+\" , reg_c.intercept_)"
   ]
  },
  {
   "cell_type": "markdown",
   "id": "f45f1131",
   "metadata": {},
   "source": [
    "## Model d: using the training/testing data in case 2 with two least correlated input features"
   ]
  },
  {
   "cell_type": "code",
   "execution_count": 450,
   "id": "dff4482f",
   "metadata": {},
   "outputs": [
    {
     "name": "stdout",
     "output_type": "stream",
     "text": [
      "y = x * [[-1.53274884e+05 -1.51020610e+00]] + [660703.3968196]\n"
     ]
    }
   ],
   "source": [
    "reg_d = linear_model.LinearRegression()\n",
    "X_train_d = train2[['owner','km_driven']]\n",
    "y_train_d = train2[['selling_price']]\n",
    "X_test_d = test2[['owner','km_driven']]\n",
    "y_test_d = test2[['selling_price']]\n",
    "\n",
    "#Fit the model\n",
    "reg_d.fit(X_train_d,y_train_d)\n",
    "# Print the model\n",
    "print( \"y = x *\", reg_d.coef_, \"+\" , reg_d.intercept_)"
   ]
  },
  {
   "cell_type": "markdown",
   "id": "uIHDIRCYklO_",
   "metadata": {
    "id": "uIHDIRCYklO_"
   },
   "source": [
    "### Q5: Evaluate Models\n",
    "* Evaluate the performance of the four models with two metrics, including MSE and Root MSE\n",
    "* Print the results of the four models regarding the two metrics"
   ]
  },
  {
   "cell_type": "code",
   "execution_count": 451,
   "id": "61621c39",
   "metadata": {},
   "outputs": [
    {
     "name": "stdout",
     "output_type": "stream",
     "text": [
      "MSE: 240873725575.09454\n",
      "Root MSE: 490788.8808592698\n",
      "R^2: 0.2043619078459994\n"
     ]
    }
   ],
   "source": [
    "# Evaluate model a:\n",
    "# Predict the value\n",
    "predicted_a=reg_a.predict(X_test_a)\n",
    "# Get the metrics:\n",
    "mse_a = mean_squared_error(y_test_a, predicted_a)\n",
    "r2_a = r2_score(y_test_a, predicted_a)\n",
    "print(\"MSE:\", mse_a)\n",
    "print(\"Root MSE:\", np.sqrt(mse_a))\n",
    "print(\"R^2:\", r2_a)"
   ]
  },
  {
   "cell_type": "code",
   "execution_count": 452,
   "id": "ab1619e8",
   "metadata": {},
   "outputs": [
    {
     "name": "stdout",
     "output_type": "stream",
     "text": [
      "MSE: 292715789614.6963\n",
      "Root MSE: 541032.152108076\n",
      "R^2: 0.033120645116682\n"
     ]
    }
   ],
   "source": [
    "# Evaluate model b:\n",
    "# Predict the value\n",
    "predicted_b=reg_b.predict(X_test_b)\n",
    "# Get the metrics:\n",
    "mse_b = mean_squared_error(y_test_b, predicted_b)\n",
    "r2_b = r2_score(y_test_b, predicted_b)\n",
    "print(\"MSE:\", mse_b)\n",
    "print(\"Root MSE:\", np.sqrt(mse_b))\n",
    "print(\"R^2:\", r2_b)"
   ]
  },
  {
   "cell_type": "code",
   "execution_count": 453,
   "id": "6e1fe4c3",
   "metadata": {},
   "outputs": [
    {
     "name": "stdout",
     "output_type": "stream",
     "text": [
      "MSE: 141350876932.57806\n",
      "Root MSE: 375966.59018133255\n",
      "R^2: 0.3197367717290548\n"
     ]
    }
   ],
   "source": [
    "# Evaluate model c:\n",
    "# Predict the value:\n",
    "predicted_c=reg_c.predict(X_test_c)\n",
    "# Get the metrics:\n",
    "mse_c = mean_squared_error(y_test_c, predicted_c)\n",
    "r2_c = r2_score(y_test_c, predicted_c)\n",
    "print(\"MSE:\", mse_c)\n",
    "print(\"Root MSE:\", np.sqrt(mse_c))\n",
    "print(\"R^2:\", r2_c)"
   ]
  },
  {
   "cell_type": "code",
   "execution_count": 454,
   "id": "e3d4bdeb",
   "metadata": {},
   "outputs": [
    {
     "name": "stdout",
     "output_type": "stream",
     "text": [
      "MSE: 195254216561.59503\n",
      "Root MSE: 441875.79313829244\n",
      "R^2: 0.0603223229024622\n"
     ]
    }
   ],
   "source": [
    "# Evaluate model d:\n",
    "# Predict the value\n",
    "predicted_d=reg_d.predict(X_test_d)\n",
    "# Get the metrics:\n",
    "mse_d = mean_squared_error(y_test_d, predicted_d)\n",
    "r2_d = r2_score(y_test_d, predicted_d)\n",
    "print(\"MSE:\", mse_d)\n",
    "print(\"Root MSE:\", np.sqrt(mse_d))\n",
    "print(\"R^2:\", r2_d)"
   ]
  },
  {
   "cell_type": "markdown",
   "id": "6wmgPAzpklPA",
   "metadata": {
    "id": "6wmgPAzpklPA"
   },
   "source": [
    "### Q6: Visualize, Compare and Analyze the Results\n",
    "* Visulize the results, and perform ___insightful analysis___ on the obtained results. For better visualization, you may need to carefully set the scale for the y-axis.\n",
    "* Normally, the model trained with most correlated features and more training data will get better results. Do you obtain the similar observations? If not, please ___explain the possible reasons___."
   ]
  },
  {
   "cell_type": "markdown",
   "id": "c266ed71",
   "metadata": {},
   "source": [
    "## Visualise"
   ]
  },
  {
   "cell_type": "markdown",
   "id": "773cca0d",
   "metadata": {},
   "source": [
    "## Compare MSE between 4 models"
   ]
  },
  {
   "cell_type": "code",
   "execution_count": 455,
   "id": "u0dpqTCmklPA",
   "metadata": {
    "id": "u0dpqTCmklPA"
   },
   "outputs": [
    {
     "data": {
      "text/plain": [
       "(100000000000.0, 400000000000.0)"
      ]
     },
     "execution_count": 455,
     "metadata": {},
     "output_type": "execute_result"
    },
    {
     "data": {
      "image/png": "[encoded data removed]",
      "text/plain": [
       "<Figure size 640x480 with 1 Axes>"
      ]
     },
     "metadata": {},
     "output_type": "display_data"
    }
   ],
   "source": [
    "# Plot the bar chart to compare mean square error between four models\n",
    "sns.barplot(x = ['MSE Model A', 'MSE Model B','MSE Model C', 'MSE Model D'], y = [mse_a, mse_b, mse_c, mse_d]).set(title = \"Mean Square Error Comparison\", ylabel = 'Value', xlabel = 'MSE')\n",
    "# Set the scale for the y-axis from 100000000000 to 400000000000 as the mse of four models are within this range\n",
    "plt.ylim(100000000000,400000000000)"
   ]
  },
  {
   "cell_type": "markdown",
   "id": "2be518d3",
   "metadata": {},
   "source": [
    "## Analyze  \n",
    "- From the graph above, it can be witnessed that model C is the best model for prediction as it has lowest mean squared error. This is the training data of model C accounts for a significant amount of the data set (90% of the data set) and is trained with the most two correlated features. \n",
    "\n",
    "- Moreover, model A is potentially an acceptable model for prediction, given that it has a considerably low MSE. Although model A was trained with a small amount of data set (only 10%), this still performs well in terms of prediction, because model A was trained with two most correlated features.\n",
    "\n",
    "- Model B is the worst model for prediction as its MSE dominated others to account for the highest, the reason might be it has a small amount of training data in the test set  (10% of the dataset) and is trained with the least two correlated features. \n",
    "\n",
    "- Model D is better than model B, this is because it has more training data (model D trains 90% of the data set). Though trained with two least correlated features, its MSE is still low enough to be considered as a good model for prediction."
   ]
  },
  {
   "cell_type": "markdown",
   "id": "406ac77f",
   "metadata": {},
   "source": [
    "## Compare \n",
    "- In case 1 (10% of the data set), model A and model B seems not to perform good prediction in comparison to model C and model D.\n",
    "- In case 2 (90% of the data set), the performance of model C and model D is much better.\n",
    "- Regardless of the training data amount, evaluating the MSE helps us to know that model A is more efficient than model B and model C is more effective than model D."
   ]
  },
  {
   "cell_type": "markdown",
   "id": "2771db05",
   "metadata": {},
   "source": [
    "## Summary\n",
    "- Based on visualisation, in conclusion, the larger the training data in the test set and the more correlated features models train, the lower mean square error and the better the model for prediction.\n",
    "- Additionally, the result shows that using the most correlated features is more effective for prediction compared with the least correlated variables."
   ]
  },
  {
   "cell_type": "markdown",
   "id": "e3eb6bf9",
   "metadata": {},
   "source": [
    "## Compare R Square of 4 models"
   ]
  },
  {
   "cell_type": "code",
   "execution_count": 456,
   "id": "bc927c22",
   "metadata": {},
   "outputs": [
    {
     "data": {
      "text/plain": [
       "(0.0, 0.4)"
      ]
     },
     "execution_count": 456,
     "metadata": {},
     "output_type": "execute_result"
    },
    {
     "data": {
      "image/png": "[encoded data removed]",
      "text/plain": [
       "<Figure size 640x480 with 1 Axes>"
      ]
     },
     "metadata": {},
     "output_type": "display_data"
    }
   ],
   "source": [
    "# Plot the bar chart to compare r square score between four models\n",
    "sns.barplot(x = ['R2 Model A', 'R2 Model B','R2 Model C', 'R2 Model D'], y = [r2_a, r2_b, r2_c, r2_d]).set(title = \"R Square Comparison\", ylabel = 'Value', xlabel = 'R2')\n",
    "# Set the scale for the y-axis from 0 to 0.25 as the r-squared of four models are within this range\n",
    "plt.ylim(0,0.4)"
   ]
  },
  {
   "cell_type": "markdown",
   "id": "b11047f0",
   "metadata": {},
   "source": [
    "#### Analysis \n",
    "- Model C is the best model for prediction according to R Squared result since it has highest absolute value of R-square and its trains data containing 90% of the entire data which assists the model fit better. \n",
    "\n",
    "- Model B and D seems to fit data ineffectively based on their significantly low R-square compared to others, this is because they are being trained with two least correlated features."
   ]
  },
  {
   "cell_type": "markdown",
   "id": "79146b0c",
   "metadata": {},
   "source": [
    "## Compare root MSE between 4 models:"
   ]
  },
  {
   "cell_type": "code",
   "execution_count": 459,
   "id": "3e705578",
   "metadata": {},
   "outputs": [
    {
     "data": {
      "text/plain": [
       "(0.0, 600000.0)"
      ]
     },
     "execution_count": 459,
     "metadata": {},
     "output_type": "execute_result"
    },
    {
     "data": {
      "image/png": "[encoded data removed]",
      "text/plain": [
       "<Figure size 640x480 with 1 Axes>"
      ]
     },
     "metadata": {},
     "output_type": "display_data"
    }
   ],
   "source": [
    "# Plot the bar chart to compare mean square error between four models\n",
    "sns.barplot(x = ['RMSE Model A', 'RMSE Model B','RMSE Model C', 'RMSE Model D'], y = [np.sqrt(mse_a), np.sqrt(mse_b), np.sqrt(mse_c), np.sqrt(mse_d)]).set(title = \"Root Mean Square Error Comparison\", ylabel = 'Value', xlabel = 'RMSE')\n",
    "# Set the scale for the y-axis from 100000000000 to 400000000000 as the mse of four models are within this range\n",
    "plt.ylim(0,600000)"
   ]
  },
  {
   "cell_type": "markdown",
   "id": "47a37635",
   "metadata": {},
   "source": [
    "#### Analyze \n",
    "- From the graph, we can conclude that model C is the best model among all, due to its lowest root mean square error. That is because model C was trained with a huge amount of the data set (90% of the data set) and with two most correlated features.\n",
    "\n",
    "- Moreover, it can be seen that Model D is also a good model for prediction even though it was trained with two least correlated features. That is because it is being trained with a large amount of the data set (90% of the data set), therefore, model D still performs considerably good predictive. \n",
    "\n",
    "- Model B is the worst model for prediction because it has a small training data in the test set (10% of the dataset) and is trained with the least two correlated features along with the highest root mean square error, given that its root mean square error was largest. \n",
    "\n",
    "- Model A is better than model B by training with two most correlated features. In model D, two most correlated features assist a small amount of data to minimize root mean square error.\n",
    "\n",
    "\n",
    "#### Compare \n",
    "- In case 1 (10% of entire data), both model A and B is not suitable for prediction, compared to model C and model D in the order.\n",
    "- In case 2 (90% of the entire data), model C and D had lower RMSE demonstrates a significant improvement.\n",
    "- Regardless of the training data amount in the test, the RMSE graph records that model A is more efficient than model B and model C is more effective than model D.\n",
    "\n",
    "#### Summary\n",
    "- According to the graphs and analysis, we conclude similarly that the larger the training data in the test set and the more models trained with the most correlated features, the better the model for prediction and lessening root mean square error.\n",
    "- Moreover, the result indicates that the difference between these models is inconsiderably small regarding RMSE. It might be influenced by other factors; thus, other factors should be taken into consideration in deciding a model for predictive performance."
   ]
  },
  {
   "cell_type": "markdown",
   "id": "f97796c2",
   "metadata": {},
   "source": [
    "### Q7: Data Science Ethics\n",
    "*Please read the following examples [Click here to read the example_1.](https://www.vox.com/covid-19-coronavirus-us-response-trump/2020/5/18/21262265/georgia-covid-19-cases-declining-reopening) [Click here to read the example_2.](https://viborc.com/ethics-and-ethical-data-visualization-a-complete-guide/)\n",
    "\n",
    "*Then view the picture ![My Image](figure_portfolio2.png \"This is my image\")\n",
    "Please compose an analysis of 100-200 words that evaluates potential ethical concerns associated with the infographic, detailing the reasons behind these issues.\n"
   ]
  },
  {
   "cell_type": "markdown",
   "id": "ff0d32cf",
   "metadata": {},
   "source": [
    "## 1) Misleading Representation: \n",
    "The two above tables are sorted differently because the first table is sorted by the number of total medals, while the other is sorted by the number of gold medals only, thereby causing confusion for the audience since they may not know which criteria should be considered more important for determining the rankings and the winner. This can lead to a problem if viewers think that the order reflecs the general Olympic performance. \n",
    "## 2) Lack of Context: \n",
    "Because the infographic doesn't give information about how the data is sorted, this can lead to misunderstanding and confusion among viewers. For example, one might think that a country with more total medals performed succesfully in the Olympics, while another might think that a country with more gold medals is better. To avoid this confusion, the picture should provide more context explaining the meaning of both the sorting method and how it relates to a country's achievement."
   ]
  }
 ],
 "metadata": {
  "colab": {
   "provenance": []
  },
  "kernelspec": {
   "display_name": "Python 3 (ipykernel)",
   "language": "python",
   "name": "python3"
  },
  "language_info": {
   "codemirror_mode": {
    "name": "ipython",
    "version": 3
   },
   "file_extension": ".py",
   "mimetype": "text/x-python",
   "name": "python",
   "nbconvert_exporter": "python",
   "pygments_lexer": "ipython3",
   "version": "3.11.5"
  }
 },
 "nbformat": 4,
 "nbformat_minor": 5
}
